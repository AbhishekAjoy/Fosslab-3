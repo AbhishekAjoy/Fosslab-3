{
  "nbformat": 4,
  "nbformat_minor": 0,
  "metadata": {
    "colab": {
      "name": "Untitled2.ipynb",
      "version": "0.3.2",
      "provenance": [],
      "collapsed_sections": [],
      "include_colab_link": true
    },
    "kernelspec": {
      "name": "python3",
      "display_name": "Python 3"
    },
    "accelerator": "GPU"
  },
  "cells": [
    {
      "cell_type": "markdown",
      "metadata": {
        "id": "view-in-github",
        "colab_type": "text"
      },
      "source": [
        "<a href=\"https://colab.research.google.com/github/AbhishekAjoy/ML-DL/blob/master/ANN.ipynb\" target=\"_parent\"><img src=\"https://colab.research.google.com/assets/colab-badge.svg\" alt=\"Open In Colab\"/></a>"
      ]
    },
    {
      "cell_type": "code",
      "metadata": {
        "id": "rwZJVx0Y6a-W",
        "colab_type": "code",
        "outputId": "3d020f5a-1bd9-42f3-cd36-4447312e2cb9",
        "colab": {
          "base_uri": "https://localhost:8080/",
          "height": 224
        }
      },
      "source": [
        "! wget https://sds-platform-private.s3-us-east-2.amazonaws.com/uploads/P16-Artificial-Neural-Networks.zip"
      ],
      "execution_count": 0,
      "outputs": [
        {
          "output_type": "stream",
          "text": [
            "--2019-07-06 08:56:24--  https://sds-platform-private.s3-us-east-2.amazonaws.com/uploads/P16-Artificial-Neural-Networks.zip\n",
            "Resolving sds-platform-private.s3-us-east-2.amazonaws.com (sds-platform-private.s3-us-east-2.amazonaws.com)... 52.219.104.80\n",
            "Connecting to sds-platform-private.s3-us-east-2.amazonaws.com (sds-platform-private.s3-us-east-2.amazonaws.com)|52.219.104.80|:443... connected.\n",
            "HTTP request sent, awaiting response... 200 OK\n",
            "Length: 318018 (311K) [application/zip]\n",
            "Saving to: ‘P16-Artificial-Neural-Networks.zip’\n",
            "\n",
            "P16-Artificial-Neur 100%[===================>] 310.56K   506KB/s    in 0.6s    \n",
            "\n",
            "2019-07-06 08:56:26 (506 KB/s) - ‘P16-Artificial-Neural-Networks.zip’ saved [318018/318018]\n",
            "\n"
          ],
          "name": "stdout"
        }
      ]
    },
    {
      "cell_type": "code",
      "metadata": {
        "id": "lbPJRyol7JjA",
        "colab_type": "code",
        "outputId": "9a3eae01-9d9c-4c39-becb-0d667c368165",
        "colab": {
          "base_uri": "https://localhost:8080/",
          "height": 306
        }
      },
      "source": [
        "! unzip '/content/P16-Artificial-Neural-Networks.zip'"
      ],
      "execution_count": 0,
      "outputs": [
        {
          "output_type": "stream",
          "text": [
            "Archive:  /content/P16-Artificial-Neural-Networks.zip\n",
            "   creating: Artificial_Neural_Networks/\n",
            "  inflating: Artificial_Neural_Networks/ann.py  \n",
            "   creating: __MACOSX/\n",
            "   creating: __MACOSX/Artificial_Neural_Networks/\n",
            "  inflating: __MACOSX/Artificial_Neural_Networks/._ann.py  \n",
            "  inflating: Artificial_Neural_Networks/ann_homework_solution.py  \n",
            "  inflating: __MACOSX/Artificial_Neural_Networks/._ann_homework_solution.py  \n",
            "  inflating: Artificial_Neural_Networks/categorical_data.py  \n",
            "  inflating: __MACOSX/Artificial_Neural_Networks/._categorical_data.py  \n",
            "  inflating: Artificial_Neural_Networks/Churn_Modelling.csv  \n",
            "  inflating: __MACOSX/Artificial_Neural_Networks/._Churn_Modelling.csv  \n",
            "  inflating: Artificial_Neural_Networks/classification_template.py  \n",
            "  inflating: Artificial_Neural_Networks/evaluating_improving_tuning.py  \n",
            "  inflating: __MACOSX/Artificial_Neural_Networks/._evaluating_improving_tuning.py  \n",
            "  inflating: Artificial_Neural_Networks/Installations_Instructions.pdf  \n",
            "  inflating: __MACOSX/Artificial_Neural_Networks/._Installations_Instructions.pdf  \n"
          ],
          "name": "stdout"
        }
      ]
    },
    {
      "cell_type": "code",
      "metadata": {
        "id": "DgNStKDZ7poi",
        "colab_type": "code",
        "colab": {}
      },
      "source": [
        "# -*- coding: utf-8 -*-\n",
        "\"\"\"\n",
        "Created on Wed Jul  3 21:50:39 2019\n",
        "\n",
        "@author: Abhishek\n",
        "\"\"\"\n",
        "import numpy as np\n",
        "import matplotlib.pyplot as plt\n",
        "import pandas as pd"
      ],
      "execution_count": 0,
      "outputs": []
    },
    {
      "cell_type": "code",
      "metadata": {
        "id": "XuDeKnfl9gv4",
        "colab_type": "code",
        "colab": {}
      },
      "source": [
        "#import dataset\n",
        "dataset = pd.read_csv('/content/Artificial_Neural_Networks/Churn_Modelling.csv')\n",
        "X = dataset.iloc[:,3:13].values #indepenent\n",
        "Y = dataset.iloc[:,13].values#dependent : Exited"
      ],
      "execution_count": 0,
      "outputs": []
    },
    {
      "cell_type": "code",
      "metadata": {
        "id": "JyI5IyX99lbn",
        "colab_type": "code",
        "outputId": "4752c0aa-4ae8-465a-db83-f8d322eda04c",
        "colab": {
          "base_uri": "https://localhost:8080/",
          "height": 139
        }
      },
      "source": [
        "#encoding\n",
        "from sklearn.preprocessing import LabelEncoder, OneHotEncoder\n",
        "labelencoder_1 = LabelEncoder()\n",
        "X[:, 1] = labelencoder_1.fit_transform(X[:, 1]) \n",
        "labelencoder_2 = LabelEncoder()\n",
        "X[:, 2] = labelencoder_2.fit_transform(X[:, 2])\n",
        "onehotencoder = OneHotEncoder(categorical_features = [1]) \n",
        "X = onehotencoder.fit_transform(X).toarray() \n",
        "#X=X[:,1:]"
      ],
      "execution_count": 0,
      "outputs": [
        {
          "output_type": "stream",
          "text": [
            "/usr/local/lib/python3.6/dist-packages/sklearn/preprocessing/_encoders.py:415: FutureWarning: The handling of integer data will change in version 0.22. Currently, the categories are determined based on the range [0, max(values)], while in the future they will be determined based on the unique values.\n",
            "If you want the future behaviour and silence this warning, you can specify \"categories='auto'\".\n",
            "In case you used a LabelEncoder before this OneHotEncoder to convert the categories to integers, then you can now use the OneHotEncoder directly.\n",
            "  warnings.warn(msg, FutureWarning)\n",
            "/usr/local/lib/python3.6/dist-packages/sklearn/preprocessing/_encoders.py:451: DeprecationWarning: The 'categorical_features' keyword is deprecated in version 0.20 and will be removed in 0.22. You can use the ColumnTransformer instead.\n",
            "  \"use the ColumnTransformer instead.\", DeprecationWarning)\n"
          ],
          "name": "stderr"
        }
      ]
    },
    {
      "cell_type": "code",
      "metadata": {
        "id": "MIx5e_fP9oZ8",
        "colab_type": "code",
        "colab": {}
      },
      "source": [
        "#train and test set splitting\n",
        "from sklearn.model_selection import train_test_split\n",
        "X_train, X_test, Y_train, Y_test = train_test_split(X, Y, test_size = 0.2, random_state = 0)"
      ],
      "execution_count": 0,
      "outputs": []
    },
    {
      "cell_type": "code",
      "metadata": {
        "id": "8KlhJC6E9zIH",
        "colab_type": "code",
        "colab": {}
      },
      "source": [
        "from sklearn.preprocessing import StandardScaler\n",
        "sc_x = StandardScaler()\n",
        "X_train = sc_x.fit_transform(X_train)\n",
        "X_test = sc_x.transform(X_test)"
      ],
      "execution_count": 0,
      "outputs": []
    },
    {
      "cell_type": "code",
      "metadata": {
        "id": "e3kLpeLdEi6S",
        "colab_type": "code",
        "outputId": "6d2f89a5-8fa4-4755-b8d9-f6208be3e973",
        "colab": {
          "base_uri": "https://localhost:8080/",
          "height": 34
        }
      },
      "source": [
        "#Making ANN\n",
        "#import keras\n",
        "from keras.models import Sequential#init nn\n",
        "from keras.layers import Dense#create layers"
      ],
      "execution_count": 0,
      "outputs": [
        {
          "output_type": "stream",
          "text": [
            "Using TensorFlow backend.\n"
          ],
          "name": "stderr"
        }
      ]
    },
    {
      "cell_type": "code",
      "metadata": {
        "id": "QC1bGXAJFuFY",
        "colab_type": "code",
        "outputId": "75d6c37b-ccee-48e7-d5c1-ec0398eead1a",
        "colab": {
          "base_uri": "https://localhost:8080/",
          "height": 88
        }
      },
      "source": [
        "#init as sequence of layers\n",
        "classifier = Sequential()"
      ],
      "execution_count": 0,
      "outputs": [
        {
          "output_type": "stream",
          "text": [
            "WARNING: Logging before flag parsing goes to stderr.\n",
            "W0706 08:56:58.549779 139782566246272 deprecation_wrapper.py:119] From /usr/local/lib/python3.6/dist-packages/keras/backend/tensorflow_backend.py:74: The name tf.get_default_graph is deprecated. Please use tf.compat.v1.get_default_graph instead.\n",
            "\n"
          ],
          "name": "stderr"
        }
      ]
    },
    {
      "cell_type": "code",
      "metadata": {
        "id": "NQrPUtgQF5Zh",
        "colab_type": "code",
        "outputId": "ad23525b-56b7-4665-f69d-c008a776c8c7",
        "colab": {
          "base_uri": "https://localhost:8080/",
          "height": 139
        }
      },
      "source": [
        "classifier.add(Dense(output_dim=6,init = 'uniform',activation = 'relu',input_dim = 12))"
      ],
      "execution_count": 0,
      "outputs": [
        {
          "output_type": "stream",
          "text": [
            "/usr/local/lib/python3.6/dist-packages/ipykernel_launcher.py:1: UserWarning: Update your `Dense` call to the Keras 2 API: `Dense(activation=\"relu\", input_dim=12, units=6, kernel_initializer=\"uniform\")`\n",
            "  \"\"\"Entry point for launching an IPython kernel.\n",
            "W0706 08:57:00.632862 139782566246272 deprecation_wrapper.py:119] From /usr/local/lib/python3.6/dist-packages/keras/backend/tensorflow_backend.py:517: The name tf.placeholder is deprecated. Please use tf.compat.v1.placeholder instead.\n",
            "\n",
            "W0706 08:57:00.643116 139782566246272 deprecation_wrapper.py:119] From /usr/local/lib/python3.6/dist-packages/keras/backend/tensorflow_backend.py:4138: The name tf.random_uniform is deprecated. Please use tf.random.uniform instead.\n",
            "\n"
          ],
          "name": "stderr"
        }
      ]
    },
    {
      "cell_type": "code",
      "metadata": {
        "id": "TTYgKSMLIIC5",
        "colab_type": "code",
        "outputId": "b5a6ab0c-2099-4158-fceb-1245d56c8ff2",
        "colab": {
          "base_uri": "https://localhost:8080/",
          "height": 71
        }
      },
      "source": [
        "classifier.add(Dense(output_dim=6,init = 'uniform',activation = 'relu'))"
      ],
      "execution_count": 0,
      "outputs": [
        {
          "output_type": "stream",
          "text": [
            "/usr/local/lib/python3.6/dist-packages/ipykernel_launcher.py:1: UserWarning: Update your `Dense` call to the Keras 2 API: `Dense(activation=\"relu\", units=6, kernel_initializer=\"uniform\")`\n",
            "  \"\"\"Entry point for launching an IPython kernel.\n"
          ],
          "name": "stderr"
        }
      ]
    },
    {
      "cell_type": "code",
      "metadata": {
        "id": "wiX5JeDRIY5r",
        "colab_type": "code",
        "outputId": "9fac45d0-35cb-4462-f3a3-3a89d759cfeb",
        "colab": {
          "base_uri": "https://localhost:8080/",
          "height": 71
        }
      },
      "source": [
        "classifier.add(Dense(output_dim=1,init='uniform',activation='sigmoid'))#softmax for more than two classes"
      ],
      "execution_count": 0,
      "outputs": [
        {
          "output_type": "stream",
          "text": [
            "/usr/local/lib/python3.6/dist-packages/ipykernel_launcher.py:1: UserWarning: Update your `Dense` call to the Keras 2 API: `Dense(activation=\"sigmoid\", units=1, kernel_initializer=\"uniform\")`\n",
            "  \"\"\"Entry point for launching an IPython kernel.\n"
          ],
          "name": "stderr"
        }
      ]
    },
    {
      "cell_type": "code",
      "metadata": {
        "id": "8MCjuLkHJUba",
        "colab_type": "code",
        "outputId": "6ed8583b-68c7-4470-95e2-e604d1dbd7e1",
        "colab": {
          "base_uri": "https://localhost:8080/",
          "height": 156
        }
      },
      "source": [
        "classifier.compile(optimizer='adam',loss='binary_crossentropy',metrics=['accuracy'])"
      ],
      "execution_count": 0,
      "outputs": [
        {
          "output_type": "stream",
          "text": [
            "W0706 08:57:10.925348 139782566246272 deprecation_wrapper.py:119] From /usr/local/lib/python3.6/dist-packages/keras/optimizers.py:790: The name tf.train.Optimizer is deprecated. Please use tf.compat.v1.train.Optimizer instead.\n",
            "\n",
            "W0706 08:57:10.951825 139782566246272 deprecation_wrapper.py:119] From /usr/local/lib/python3.6/dist-packages/keras/backend/tensorflow_backend.py:3376: The name tf.log is deprecated. Please use tf.math.log instead.\n",
            "\n",
            "W0706 08:57:10.957113 139782566246272 deprecation.py:323] From /usr/local/lib/python3.6/dist-packages/tensorflow/python/ops/nn_impl.py:180: add_dispatch_support.<locals>.wrapper (from tensorflow.python.ops.array_ops) is deprecated and will be removed in a future version.\n",
            "Instructions for updating:\n",
            "Use tf.where in 2.0, which has the same broadcast rule as np.where\n"
          ],
          "name": "stderr"
        }
      ]
    },
    {
      "cell_type": "code",
      "metadata": {
        "id": "YOayPzpuKOyG",
        "colab_type": "code",
        "outputId": "8066f616-3d38-4e51-b630-0ab394854c74",
        "colab": {
          "base_uri": "https://localhost:8080/",
          "height": 1000
        }
      },
      "source": [
        "classifier.fit(X_train,Y_train,batch_size=10, nb_epoch=100)"
      ],
      "execution_count": 0,
      "outputs": [
        {
          "output_type": "stream",
          "text": [
            "/usr/local/lib/python3.6/dist-packages/ipykernel_launcher.py:1: UserWarning: The `nb_epoch` argument in `fit` has been renamed `epochs`.\n",
            "  \"\"\"Entry point for launching an IPython kernel.\n",
            "W0706 08:57:16.209148 139782566246272 deprecation_wrapper.py:119] From /usr/local/lib/python3.6/dist-packages/keras/backend/tensorflow_backend.py:986: The name tf.assign_add is deprecated. Please use tf.compat.v1.assign_add instead.\n",
            "\n"
          ],
          "name": "stderr"
        },
        {
          "output_type": "stream",
          "text": [
            "Epoch 1/100\n",
            "8000/8000 [==============================] - 6s 774us/step - loss: 0.4948 - acc: 0.7954\n",
            "Epoch 2/100\n",
            "8000/8000 [==============================] - 3s 318us/step - loss: 0.4307 - acc: 0.7960\n",
            "Epoch 3/100\n",
            "8000/8000 [==============================] - 3s 314us/step - loss: 0.4260 - acc: 0.7960\n",
            "Epoch 4/100\n",
            "8000/8000 [==============================] - 3s 316us/step - loss: 0.4219 - acc: 0.7985\n",
            "Epoch 5/100\n",
            "8000/8000 [==============================] - 2s 311us/step - loss: 0.4186 - acc: 0.8225\n",
            "Epoch 6/100\n",
            "8000/8000 [==============================] - 3s 317us/step - loss: 0.4163 - acc: 0.8274\n",
            "Epoch 7/100\n",
            "8000/8000 [==============================] - 2s 311us/step - loss: 0.4139 - acc: 0.8287\n",
            "Epoch 8/100\n",
            "8000/8000 [==============================] - 2s 312us/step - loss: 0.4128 - acc: 0.8304\n",
            "Epoch 9/100\n",
            "8000/8000 [==============================] - 2s 311us/step - loss: 0.4118 - acc: 0.8316\n",
            "Epoch 10/100\n",
            "8000/8000 [==============================] - 2s 311us/step - loss: 0.4104 - acc: 0.8331\n",
            "Epoch 11/100\n",
            "8000/8000 [==============================] - 2s 311us/step - loss: 0.4093 - acc: 0.8337\n",
            "Epoch 12/100\n",
            "8000/8000 [==============================] - 2s 308us/step - loss: 0.4082 - acc: 0.8351\n",
            "Epoch 13/100\n",
            "8000/8000 [==============================] - 2s 308us/step - loss: 0.4076 - acc: 0.8341\n",
            "Epoch 14/100\n",
            "8000/8000 [==============================] - 2s 309us/step - loss: 0.4073 - acc: 0.8340\n",
            "Epoch 15/100\n",
            "8000/8000 [==============================] - 3s 315us/step - loss: 0.4070 - acc: 0.8364\n",
            "Epoch 16/100\n",
            "8000/8000 [==============================] - 2s 307us/step - loss: 0.4059 - acc: 0.8352\n",
            "Epoch 17/100\n",
            "8000/8000 [==============================] - 2s 306us/step - loss: 0.4060 - acc: 0.8360\n",
            "Epoch 18/100\n",
            "8000/8000 [==============================] - 2s 309us/step - loss: 0.4047 - acc: 0.8365\n",
            "Epoch 19/100\n",
            "8000/8000 [==============================] - 2s 312us/step - loss: 0.4049 - acc: 0.8334\n",
            "Epoch 20/100\n",
            "8000/8000 [==============================] - 2s 307us/step - loss: 0.4048 - acc: 0.8356\n",
            "Epoch 21/100\n",
            "8000/8000 [==============================] - 2s 306us/step - loss: 0.4049 - acc: 0.8356\n",
            "Epoch 22/100\n",
            "8000/8000 [==============================] - 2s 308us/step - loss: 0.4039 - acc: 0.8369\n",
            "Epoch 23/100\n",
            "8000/8000 [==============================] - 2s 311us/step - loss: 0.4038 - acc: 0.8352\n",
            "Epoch 24/100\n",
            "8000/8000 [==============================] - 3s 317us/step - loss: 0.4038 - acc: 0.8354\n",
            "Epoch 25/100\n",
            "8000/8000 [==============================] - 3s 313us/step - loss: 0.4036 - acc: 0.8354\n",
            "Epoch 26/100\n",
            "8000/8000 [==============================] - 3s 313us/step - loss: 0.4031 - acc: 0.8359\n",
            "Epoch 27/100\n",
            "8000/8000 [==============================] - 2s 310us/step - loss: 0.4034 - acc: 0.8352\n",
            "Epoch 28/100\n",
            "8000/8000 [==============================] - 2s 310us/step - loss: 0.4029 - acc: 0.8356\n",
            "Epoch 29/100\n",
            "8000/8000 [==============================] - 2s 309us/step - loss: 0.4026 - acc: 0.8355\n",
            "Epoch 30/100\n",
            "8000/8000 [==============================] - 2s 307us/step - loss: 0.4027 - acc: 0.8364\n",
            "Epoch 31/100\n",
            "8000/8000 [==============================] - 2s 305us/step - loss: 0.4028 - acc: 0.8345\n",
            "Epoch 32/100\n",
            "8000/8000 [==============================] - 2s 307us/step - loss: 0.4024 - acc: 0.8352\n",
            "Epoch 33/100\n",
            "8000/8000 [==============================] - 2s 311us/step - loss: 0.4023 - acc: 0.8361\n",
            "Epoch 34/100\n",
            "8000/8000 [==============================] - 2s 309us/step - loss: 0.4026 - acc: 0.8349\n",
            "Epoch 35/100\n",
            "8000/8000 [==============================] - 2s 304us/step - loss: 0.4023 - acc: 0.8355\n",
            "Epoch 36/100\n",
            "8000/8000 [==============================] - 2s 306us/step - loss: 0.4020 - acc: 0.8351\n",
            "Epoch 37/100\n",
            "8000/8000 [==============================] - 2s 311us/step - loss: 0.4018 - acc: 0.8354\n",
            "Epoch 38/100\n",
            "8000/8000 [==============================] - 2s 307us/step - loss: 0.4014 - acc: 0.8354\n",
            "Epoch 39/100\n",
            "8000/8000 [==============================] - 2s 307us/step - loss: 0.4019 - acc: 0.8351\n",
            "Epoch 40/100\n",
            "8000/8000 [==============================] - 2s 309us/step - loss: 0.4020 - acc: 0.8351\n",
            "Epoch 41/100\n",
            "8000/8000 [==============================] - 2s 312us/step - loss: 0.4014 - acc: 0.8345\n",
            "Epoch 42/100\n",
            "8000/8000 [==============================] - 2s 312us/step - loss: 0.4014 - acc: 0.8344\n",
            "Epoch 43/100\n",
            "8000/8000 [==============================] - 2s 306us/step - loss: 0.4014 - acc: 0.8344\n",
            "Epoch 44/100\n",
            "8000/8000 [==============================] - 2s 307us/step - loss: 0.4014 - acc: 0.8342\n",
            "Epoch 45/100\n",
            "8000/8000 [==============================] - 2s 303us/step - loss: 0.4018 - acc: 0.8352\n",
            "Epoch 46/100\n",
            "8000/8000 [==============================] - 2s 310us/step - loss: 0.4012 - acc: 0.8342\n",
            "Epoch 47/100\n",
            "8000/8000 [==============================] - 2s 307us/step - loss: 0.4014 - acc: 0.8349\n",
            "Epoch 48/100\n",
            "8000/8000 [==============================] - 2s 306us/step - loss: 0.4014 - acc: 0.8342\n",
            "Epoch 49/100\n",
            "8000/8000 [==============================] - 2s 307us/step - loss: 0.4016 - acc: 0.8341\n",
            "Epoch 50/100\n",
            "8000/8000 [==============================] - 2s 307us/step - loss: 0.4011 - acc: 0.8354\n",
            "Epoch 51/100\n",
            "8000/8000 [==============================] - 2s 305us/step - loss: 0.4013 - acc: 0.8345\n",
            "Epoch 52/100\n",
            "8000/8000 [==============================] - 2s 306us/step - loss: 0.4015 - acc: 0.8351\n",
            "Epoch 53/100\n",
            "8000/8000 [==============================] - 2s 304us/step - loss: 0.4011 - acc: 0.8351\n",
            "Epoch 54/100\n",
            "8000/8000 [==============================] - 2s 304us/step - loss: 0.4012 - acc: 0.8332\n",
            "Epoch 55/100\n",
            "8000/8000 [==============================] - 2s 306us/step - loss: 0.4011 - acc: 0.8342\n",
            "Epoch 56/100\n",
            "8000/8000 [==============================] - 2s 305us/step - loss: 0.4006 - acc: 0.8349\n",
            "Epoch 57/100\n",
            "8000/8000 [==============================] - 2s 308us/step - loss: 0.4010 - acc: 0.8346\n",
            "Epoch 58/100\n",
            "8000/8000 [==============================] - 2s 307us/step - loss: 0.4005 - acc: 0.8354\n",
            "Epoch 59/100\n",
            "8000/8000 [==============================] - 2s 310us/step - loss: 0.4008 - acc: 0.8349\n",
            "Epoch 60/100\n",
            "8000/8000 [==============================] - 2s 303us/step - loss: 0.4009 - acc: 0.8341\n",
            "Epoch 61/100\n",
            "8000/8000 [==============================] - 2s 302us/step - loss: 0.4008 - acc: 0.8344\n",
            "Epoch 62/100\n",
            "8000/8000 [==============================] - 2s 306us/step - loss: 0.4005 - acc: 0.8341\n",
            "Epoch 63/100\n",
            "8000/8000 [==============================] - 2s 303us/step - loss: 0.4009 - acc: 0.8340\n",
            "Epoch 64/100\n",
            "8000/8000 [==============================] - 2s 302us/step - loss: 0.4007 - acc: 0.8355\n",
            "Epoch 65/100\n",
            "8000/8000 [==============================] - 2s 308us/step - loss: 0.4008 - acc: 0.8349\n",
            "Epoch 66/100\n",
            "8000/8000 [==============================] - 2s 299us/step - loss: 0.4011 - acc: 0.8340\n",
            "Epoch 67/100\n",
            "8000/8000 [==============================] - 2s 302us/step - loss: 0.4009 - acc: 0.8352\n",
            "Epoch 68/100\n",
            "8000/8000 [==============================] - 2s 301us/step - loss: 0.4003 - acc: 0.8346\n",
            "Epoch 69/100\n",
            "8000/8000 [==============================] - 2s 299us/step - loss: 0.4007 - acc: 0.8359\n",
            "Epoch 70/100\n",
            "8000/8000 [==============================] - 2s 302us/step - loss: 0.4004 - acc: 0.8339\n",
            "Epoch 71/100\n",
            "8000/8000 [==============================] - 2s 297us/step - loss: 0.4005 - acc: 0.8360\n",
            "Epoch 72/100\n",
            "8000/8000 [==============================] - 2s 302us/step - loss: 0.4006 - acc: 0.8352\n",
            "Epoch 73/100\n",
            "8000/8000 [==============================] - 2s 304us/step - loss: 0.4006 - acc: 0.8345\n",
            "Epoch 74/100\n",
            "8000/8000 [==============================] - 2s 304us/step - loss: 0.4008 - acc: 0.8356\n",
            "Epoch 75/100\n",
            "8000/8000 [==============================] - 2s 301us/step - loss: 0.4004 - acc: 0.8359\n",
            "Epoch 76/100\n",
            "8000/8000 [==============================] - 2s 304us/step - loss: 0.4009 - acc: 0.8330\n",
            "Epoch 77/100\n",
            "8000/8000 [==============================] - 2s 301us/step - loss: 0.4003 - acc: 0.8354\n",
            "Epoch 78/100\n",
            "8000/8000 [==============================] - 2s 304us/step - loss: 0.4005 - acc: 0.8346\n",
            "Epoch 79/100\n",
            "8000/8000 [==============================] - 2s 304us/step - loss: 0.4001 - acc: 0.8352\n",
            "Epoch 80/100\n",
            "8000/8000 [==============================] - 2s 301us/step - loss: 0.4005 - acc: 0.8342\n",
            "Epoch 81/100\n",
            "8000/8000 [==============================] - 2s 304us/step - loss: 0.4005 - acc: 0.8356\n",
            "Epoch 82/100\n",
            "8000/8000 [==============================] - 2s 300us/step - loss: 0.4005 - acc: 0.8359\n",
            "Epoch 83/100\n",
            "8000/8000 [==============================] - 2s 300us/step - loss: 0.4002 - acc: 0.8340\n",
            "Epoch 84/100\n",
            "8000/8000 [==============================] - 2s 303us/step - loss: 0.4001 - acc: 0.8352\n",
            "Epoch 85/100\n",
            "8000/8000 [==============================] - 3s 315us/step - loss: 0.4006 - acc: 0.8351\n",
            "Epoch 86/100\n",
            "8000/8000 [==============================] - 3s 315us/step - loss: 0.4006 - acc: 0.8351\n",
            "Epoch 87/100\n",
            "8000/8000 [==============================] - 3s 316us/step - loss: 0.4002 - acc: 0.8352\n",
            "Epoch 88/100\n",
            "8000/8000 [==============================] - 3s 317us/step - loss: 0.4002 - acc: 0.8364\n",
            "Epoch 89/100\n",
            "8000/8000 [==============================] - 2s 308us/step - loss: 0.4002 - acc: 0.8342\n",
            "Epoch 90/100\n",
            "8000/8000 [==============================] - 2s 311us/step - loss: 0.3999 - acc: 0.8367\n",
            "Epoch 91/100\n",
            "8000/8000 [==============================] - 2s 301us/step - loss: 0.4000 - acc: 0.8345\n",
            "Epoch 92/100\n",
            "8000/8000 [==============================] - 2s 304us/step - loss: 0.4004 - acc: 0.8361\n",
            "Epoch 93/100\n",
            "8000/8000 [==============================] - 2s 298us/step - loss: 0.4000 - acc: 0.8349\n",
            "Epoch 94/100\n",
            "8000/8000 [==============================] - 2s 295us/step - loss: 0.3999 - acc: 0.8355\n",
            "Epoch 95/100\n",
            "8000/8000 [==============================] - 2s 300us/step - loss: 0.3999 - acc: 0.8346\n",
            "Epoch 96/100\n",
            "8000/8000 [==============================] - 2s 302us/step - loss: 0.4003 - acc: 0.8357\n",
            "Epoch 97/100\n",
            "8000/8000 [==============================] - 2s 300us/step - loss: 0.4003 - acc: 0.8364\n",
            "Epoch 98/100\n",
            "8000/8000 [==============================] - 2s 299us/step - loss: 0.4002 - acc: 0.8354\n",
            "Epoch 99/100\n",
            "8000/8000 [==============================] - 2s 304us/step - loss: 0.3996 - acc: 0.8342\n",
            "Epoch 100/100\n",
            "8000/8000 [==============================] - 2s 303us/step - loss: 0.4000 - acc: 0.8359\n"
          ],
          "name": "stdout"
        },
        {
          "output_type": "execute_result",
          "data": {
            "text/plain": [
              "<keras.callbacks.History at 0x7f21577e4e10>"
            ]
          },
          "metadata": {
            "tags": []
          },
          "execution_count": 14
        }
      ]
    },
    {
      "cell_type": "code",
      "metadata": {
        "id": "mitaXTVoLfoB",
        "colab_type": "code",
        "colab": {}
      },
      "source": [
        "y_pred = classifier.predict(X_test)\n",
        "y_pred = (y_pred>0.5)"
      ],
      "execution_count": 0,
      "outputs": []
    },
    {
      "cell_type": "code",
      "metadata": {
        "id": "-JrHcNtnh0lK",
        "colab_type": "code",
        "outputId": "1b899b4a-5a87-4143-daa4-5ad61024f194",
        "colab": {
          "base_uri": "https://localhost:8080/",
          "height": 71
        }
      },
      "source": [
        "from sklearn.preprocessing import LabelEncoder\n",
        "labelencoder = LabelEncoder()\n",
        "y_pred = labelencoder.fit_transform(y_pred)"
      ],
      "execution_count": 0,
      "outputs": [
        {
          "output_type": "stream",
          "text": [
            "/usr/local/lib/python3.6/dist-packages/sklearn/preprocessing/label.py:235: DataConversionWarning: A column-vector y was passed when a 1d array was expected. Please change the shape of y to (n_samples, ), for example using ravel().\n",
            "  y = column_or_1d(y, warn=True)\n"
          ],
          "name": "stderr"
        }
      ]
    },
    {
      "cell_type": "code",
      "metadata": {
        "id": "li6uIdofjcYO",
        "colab_type": "code",
        "outputId": "ee450ece-5fd2-410a-e22a-36a305617028",
        "colab": {
          "base_uri": "https://localhost:8080/",
          "height": 34
        }
      },
      "source": [
        "count = 0\n",
        "for i in range(0,len(y_pred)):\n",
        "  if(y_pred[i]==Y_test[i]):\n",
        "    count+=1\n",
        "print(count)\n",
        "accr = (count/len(y_pred))*100"
      ],
      "execution_count": 0,
      "outputs": [
        {
          "output_type": "stream",
          "text": [
            "1690\n"
          ],
          "name": "stdout"
        }
      ]
    },
    {
      "cell_type": "code",
      "metadata": {
        "id": "gm45zT2kkaCV",
        "colab_type": "code",
        "outputId": "bd11b8d7-6ac9-4ae8-d752-d80123c1943d",
        "colab": {
          "base_uri": "https://localhost:8080/",
          "height": 34
        }
      },
      "source": [
        "print(accr)"
      ],
      "execution_count": 0,
      "outputs": [
        {
          "output_type": "stream",
          "text": [
            "84.5\n"
          ],
          "name": "stdout"
        }
      ]
    },
    {
      "cell_type": "code",
      "metadata": {
        "id": "bmLa_YVKleU3",
        "colab_type": "code",
        "colab": {
          "base_uri": "https://localhost:8080/",
          "height": 51
        },
        "outputId": "e8f2b571-e348-4c2a-d93b-c179c939a08e"
      },
      "source": [
        "from sklearn.metrics import confusion_matrix\n",
        "cm = confusion_matrix(Y_test,y_pred)\n",
        "print(cm)"
      ],
      "execution_count": 20,
      "outputs": [
        {
          "output_type": "stream",
          "text": [
            "[[1546   49]\n",
            " [ 261  144]]\n"
          ],
          "name": "stdout"
        }
      ]
    },
    {
      "cell_type": "code",
      "metadata": {
        "id": "0AmQvYjQl1bY",
        "colab_type": "code",
        "colab": {}
      },
      "source": [
        ""
      ],
      "execution_count": 0,
      "outputs": []
    }
  ]
}